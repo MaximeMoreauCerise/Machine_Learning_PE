{
 "cells": [
  {
   "attachments": {},
   "cell_type": "markdown",
   "metadata": {},
   "source": [
    "Comment prédire le cours d'une action ?\n",
    "Nous traiterons ici un problème simple de régression.\n",
    "\n",
    "Les cours d'une actions est influencer par une telle quantité de paramètres qu'il semble impossible de pouvoir le prédire de mainière précise la valeur d'une action dans le futur. Bien que les données contables d'une entreprise peuvent rendre compte de ses performances et donc de sa valeur sur le marché, d'autre facteurs exogènes à la contabilité et à la finance d'entreprise influent de manière non négligeable le valeur d'une action. Ces facteurs, généralement conjoncutrel, sont d'ordre politique, économique, sociale et aujourd'hui environnementale. Par ailleurs, est-il possible de quantifier la confiance qu'est prêt à accorder un investisseur à une entreprise ? Est-il également de prédire une crise financière d'ordre mondiale ? C'est parce qu'il est bien difficile de répondre à ce genre de question, qu'ici nous étudirons le prix d'une action en ommétant les causes qui leekakeo"
   ]
  },
  {
   "attachments": {},
   "cell_type": "markdown",
   "metadata": {},
   "source": [
    "Supposons qu'il existe une fonction f "
   ]
  },
  {
   "attachments": {},
   "cell_type": "markdown",
   "metadata": {},
   "source": [
    "<b> Prenons comme exemple le cours de l'action de la BNP : </b>"
   ]
  },
  {
   "cell_type": "code",
   "execution_count": 76,
   "metadata": {},
   "outputs": [
    {
     "ename": "SyntaxError",
     "evalue": "invalid syntax (35869234.py, line 22)",
     "output_type": "error",
     "traceback": [
      "\u001b[0;36m  File \u001b[0;32m\"/var/folders/b2/tt72scdn7l70dcsk63fpphlc0000gn/T/ipykernel_77086/35869234.py\"\u001b[0;36m, line \u001b[0;32m22\u001b[0m\n\u001b[0;31m    fig = px.line(x = a,y = b, labels= {'x':\"Valeurs de l'action en $ l\", 'y':' t en jours', template = \"plotly_white\"})\u001b[0m\n\u001b[0m                                                                                                      ^\u001b[0m\n\u001b[0;31mSyntaxError\u001b[0m\u001b[0;31m:\u001b[0m invalid syntax\n"
     ]
    }
   ],
   "source": [
    "from Class import *\n",
    "\n",
    "df = pd.read_csv(\"data-fr/Data_CAC40/dataframe_BNP.PA.csv\")\n",
    "df.head()\n",
    "\n",
    "Y = df['Close'].to_numpy().reshape(len(df['Close']),1)\n",
    "X  = np.arange(len(Y)).reshape(len(Y),1)\n",
    "\n",
    "model = LinearRegression()\n",
    "model.fit(X,Y)\n",
    "model.score(X,Y)\n",
    "YP = model.predict(X)\n",
    "print(YP)\n",
    "\n",
    "a = []\n",
    "b = []\n",
    "c = []\n",
    "for i in range(len(X)):\n",
    "    a.append(X[i][0])\n",
    "    b.append(Y[i][0])\n",
    "\n",
    "fig = px.line(x = a,y = b, labels= {'x':\"Valeurs de l'action en $ l\", 'y':' t en jours', template =})\n",
    "fig.add_scatter(x = a, y = c) \n",
    "fig.show()"
   ]
  },
  {
   "cell_type": "code",
   "execution_count": 67,
   "metadata": {},
   "outputs": [
    {
     "name": "stdout",
     "output_type": "stream",
     "text": [
      "[[29.75130272]\n",
      " [29.69412613]\n",
      " [29.74090958]\n",
      " ...\n",
      " [38.75335312]\n",
      " [38.76667786]\n",
      " [38.46467972]]\n",
      "[[   0]\n",
      " [   1]\n",
      " [   2]\n",
      " ...\n",
      " [2809]\n",
      " [2810]\n",
      " [2811]]\n"
     ]
    }
   ],
   "source": [
    "print(Y)\n",
    "print(X)"
   ]
  },
  {
   "cell_type": "code",
   "execution_count": null,
   "metadata": {},
   "outputs": [],
   "source": []
  },
  {
   "cell_type": "code",
   "execution_count": null,
   "metadata": {},
   "outputs": [],
   "source": []
  }
 ],
 "metadata": {
  "kernelspec": {
   "display_name": "base",
   "language": "python",
   "name": "python3"
  },
  "language_info": {
   "codemirror_mode": {
    "name": "ipython",
    "version": 3
   },
   "file_extension": ".py",
   "mimetype": "text/x-python",
   "name": "python",
   "nbconvert_exporter": "python",
   "pygments_lexer": "ipython3",
   "version": "3.9.13"
  },
  "orig_nbformat": 4
 },
 "nbformat": 4,
 "nbformat_minor": 2
}
