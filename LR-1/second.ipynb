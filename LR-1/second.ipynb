{
 "cells": [
  {
   "cell_type": "code",
   "execution_count": 298,
   "metadata": {},
   "outputs": [],
   "source": [
    "#bibliothèque\n",
    "from sklearn.linear_model import LinearRegression\n",
    "import pandas as pd\n",
    "import matplotlib.pyplot as plt\n",
    "import numpy as np\n",
    "import os\n",
    "import random\n",
    "from sklearn.metrics import r2_score\n",
    "# Fonction pour changer la couleur du texte\n",
    "def couleur(valeur):\n",
    "    if valeur < 0:\n",
    "        return f'<font color=\"red\">{valeur}</font>'\n",
    "    else:\n",
    "        return f'<font color=\"green\">{valeur}</font>'"
   ]
  },
  {
   "attachments": {},
   "cell_type": "markdown",
   "metadata": {},
   "source": [
    "Pour obtenir une liste avec tout les tags des entreprises du CAC40 :"
   ]
  },
  {
   "cell_type": "code",
   "execution_count": 299,
   "metadata": {},
   "outputs": [
    {
     "name": "stdout",
     "output_type": "stream",
     "text": [
      "['SU.PA', 'ORA.PA', 'ACA.PA', 'STM.PA', 'CAP.PA', 'DSY.PA', 'MC.PA', 'MT.AS', 'RI.PA', 'ENGI.PA', 'KER.PA', 'BN.PA', 'LR.PA', 'BNP.PA', '^FCHI', 'AIR.PA', 'SAN.PA', 'SGO.PA', 'GLE.PA', 'OR.PA', 'ML.PA', 'CA.PA', 'SAF.PA', 'AI.PA']\n"
     ]
    }
   ],
   "source": [
    "# Chemin du dossier\n",
    "dossier = \"data-fr/Data_CAC40\"\n",
    "fichiers = os.listdir(dossier)\n",
    "list_tags = []\n",
    "for i in fichiers:\n",
    "    chaine = i\n",
    "    chaine_sans_dataframe = chaine.replace(\"dataframe_\", \"\")\n",
    "    second = chaine_sans_dataframe.replace(\".csv\",\"\")\n",
    "    list_tags.append(second)\n",
    "\n",
    "print(list_tags)\n",
    "list_tags = ['SU.PA', 'ORA.PA', 'ACA.PA', 'STM.PA', 'CAP.PA', 'DSY.PA', 'MC.PA', 'MT.AS', 'RI.PA', 'ENGI.PA', 'KER.PA', 'BN.PA', 'LR.PA', 'BNP.PA', '^FCHI', 'AIR.PA', 'SAN.PA', 'SGO.PA', 'GLE.PA', 'OR.PA', 'ML.PA', 'CA.PA', 'SAF.PA', 'AI.PA']\n"
   ]
  },
  {
   "attachments": {},
   "cell_type": "markdown",
   "metadata": {},
   "source": [
    "Class portefeuille d'action:"
   ]
  },
  {
   "cell_type": "code",
   "execution_count": 300,
   "metadata": {},
   "outputs": [],
   "source": [
    "class portefeuille:\n",
    "    def __init__(self, noms_titres, quantites, time_achat) -> None:\n",
    "        self.noms_titres = noms_titres\n",
    "        self.quantites = quantites\n",
    "        self.time = time_achat\n",
    "        #On importe les données\n",
    "        self.data = []\n",
    "        self.prix = []\n",
    "        for i in self.noms_titres:\n",
    "            path = \"data-fr/Data_CAC40/dataframe_\"+i+\".csv\"\n",
    "            df = pd.read_csv(path)\n",
    "            self.data.append(df)\n",
    "            #print(i, \"chargé\")\n",
    "        #On récupère le prix de fermeture des actions à l'instant t = time_achat\n",
    "        self.recuperer_prix(self.time)\n",
    "        #Création du dataframe de notre portefeuille\n",
    "        self.complete_actions_df()\n",
    "    \n",
    "\n",
    "    def __str__(self) -> str:\n",
    "        return f'{self.actions}'\n",
    "    \n",
    "    def get_noms_titres(self):\n",
    "        return self.noms_titres\n",
    "\n",
    "    def recuperer_prix(self, t):\n",
    "        for i in self.data:\n",
    "            self.prix.append(i['Close'][t])\n",
    "\n",
    "            \n",
    "    def get_data(self):\n",
    "        return self.data\n",
    "    \n",
    "    def complete_actions_df(self):\n",
    "        self.actions_temp = {'Prix achat à t = ' + str(self.time) :self.prix,\n",
    "                        'Quantite': self.quantites}\n",
    "        self.actions = pd.DataFrame(self.actions_temp, index=self.noms_titres)\n",
    "        self.actions['Valeur des actions en $'] = self.actions.apply(lambda row: row['Prix achat à t = ' + str(self.time)] * row['Quantite'], axis=1)\n",
    "\n",
    "    def add_predic(self, t, mod):\n",
    "            predict = []\n",
    "            for i in mod.models:\n",
    "                predict.append(i.predict(np.array([t]).reshape(1,1))[0])\n",
    "            self.actions['Évolution du prix en %'] = 100*(predict-self.actions['Prix achat à t = ' + str(self.time)])/self.actions['Prix achat à t = ' + str(self.time)]\n",
    "            self.actions['Estimation du prix de unitaire à t = '+str(t)] = predict\n",
    "            self.actions['Estimation de la valeur des actions à t = '+str(t)] = self.actions.apply(lambda row: row['Estimation du prix de unitaire à t = '+str(t)] * row['Quantite'], axis=1)\n",
    "            #self.couleur_evolution()\n",
    "            self.actions['Coefficient de determination'] = self.scores\n",
    "\n",
    "    def afficher_resultats(self):\n",
    "        return self.actions.head(len(self.actions))\n",
    "    \n",
    "    def couleur_evolution(self):\n",
    "        self.actions['Évolution du prix en %'] = self.actions['Évolution du prix en %'].apply(lambda x: couleur(x))\n",
    "\n",
    "    def get_r2_mean(self):\n",
    "        return self.actions['Coefficient de determination'].mean()\n",
    "    \n",
    "    def get_r2_var(self):\n",
    "        return self.actions['Coefficient de determination'].var()\n",
    "\n",
    "    def set_scores(self, scores):\n",
    "        self.scores = scores"
   ]
  },
  {
   "attachments": {},
   "cell_type": "markdown",
   "metadata": {},
   "source": [
    "### Les models"
   ]
  },
  {
   "cell_type": "markdown",
   "metadata": {},
   "source": []
  },
  {
   "cell_type": "code",
   "execution_count": 301,
   "metadata": {},
   "outputs": [],
   "source": [
    "class lr_models:\n",
    "    #period = période d'apprentissage => inputs\n",
    "    def __init__(self, portefeuille, period, learning_rate) -> None:\n",
    "        self.mon_portefeuille = portefeuille \n",
    "        self.noms_titres = portefeuille.get_noms_titres()\n",
    "        self.m = period\n",
    "        self.learning_rate = learning_rate\n",
    "        self.scores = []\n",
    "\n",
    "    def create_models(self):\n",
    "        self.models = []\n",
    "        for i in self.mon_portefeuille.get_data():\n",
    "            self.models.append(self.get_model(i))\n",
    "\n",
    "\n",
    "    def get_model(self, df_titre):\n",
    "        df = df_titre.head(self.m)\n",
    "        self.Y = df['Close']\n",
    "        self.X = np.arange(self.m).reshape(self.m,1)\n",
    "        model = LinearRegression()\n",
    "        model.fit(self.X,self.Y)\n",
    "        self.scores.append(model.score(self.X,self.Y))\n",
    "        self.mon_portefeuille.set_scores(self.scores)\n",
    "        #print(model.score(self.X, self.Y))\n",
    "        return model\n"
   ]
  },
  {
   "cell_type": "code",
   "execution_count": 302,
   "metadata": {},
   "outputs": [],
   "source": [
    "#Quelles actions on veut dans notre portefeuille d'actions et quelles sont les quantités? \n",
    "liste_tags_entreprises = list_tags\n",
    "quantites = [random.randint(1, 10) for _ in range(len(liste_tags_entreprises))]\n",
    "buy_order = 0\n",
    "time_target = 200 #Pour quand on souhaite effectuer des prédictions\n",
    "#Paramètres de l'apprentissage :\n",
    "learning_period = 100\n",
    "learning_rate = 0.01"
   ]
  },
  {
   "attachments": {},
   "cell_type": "markdown",
   "metadata": {},
   "source": [
    "Création de mon portefeuille, et de mes modèles d'apprentissages + Ajouts des prédictions"
   ]
  },
  {
   "cell_type": "code",
   "execution_count": 303,
   "metadata": {},
   "outputs": [],
   "source": [
    "portefeuille_maxime = portefeuille(liste_tags_entreprises,quantites, buy_order)\n",
    "model = lr_models(portefeuille_maxime, learning_period, learning_rate)\n",
    "model.create_models()\n",
    "portefeuille_maxime.add_predic(time_target,model)"
   ]
  },
  {
   "cell_type": "code",
   "execution_count": 304,
   "metadata": {},
   "outputs": [],
   "source": [
    "portefeuille_maxime.add_predic(time_target,model)"
   ]
  },
  {
   "cell_type": "code",
   "execution_count": 305,
   "metadata": {},
   "outputs": [
    {
     "data": {
      "text/html": [
       "<div>\n",
       "<style scoped>\n",
       "    .dataframe tbody tr th:only-of-type {\n",
       "        vertical-align: middle;\n",
       "    }\n",
       "\n",
       "    .dataframe tbody tr th {\n",
       "        vertical-align: top;\n",
       "    }\n",
       "\n",
       "    .dataframe thead th {\n",
       "        text-align: right;\n",
       "    }\n",
       "</style>\n",
       "<table border=\"1\" class=\"dataframe\">\n",
       "  <thead>\n",
       "    <tr style=\"text-align: right;\">\n",
       "      <th></th>\n",
       "      <th>Prix achat à t = 0</th>\n",
       "      <th>Quantite</th>\n",
       "      <th>Valeur des actions en $</th>\n",
       "      <th>Évolution du prix en %</th>\n",
       "      <th>Estimation du prix de unitaire à t = 200</th>\n",
       "      <th>Estimation de la valeur des actions à t = 200</th>\n",
       "      <th>Coefficient de determination</th>\n",
       "    </tr>\n",
       "  </thead>\n",
       "  <tbody>\n",
       "    <tr>\n",
       "      <th>SU.PA</th>\n",
       "      <td>29.081612</td>\n",
       "      <td>4</td>\n",
       "      <td>116.326447</td>\n",
       "      <td>15.860335</td>\n",
       "      <td>33.694053</td>\n",
       "      <td>134.776210</td>\n",
       "      <td>0.343671</td>\n",
       "    </tr>\n",
       "    <tr>\n",
       "      <th>ORA.PA</th>\n",
       "      <td>7.673621</td>\n",
       "      <td>8</td>\n",
       "      <td>61.388966</td>\n",
       "      <td>-13.702020</td>\n",
       "      <td>6.622180</td>\n",
       "      <td>52.977437</td>\n",
       "      <td>0.192507</td>\n",
       "    </tr>\n",
       "    <tr>\n",
       "      <th>ACA.PA</th>\n",
       "      <td>7.259819</td>\n",
       "      <td>8</td>\n",
       "      <td>58.078548</td>\n",
       "      <td>-25.958321</td>\n",
       "      <td>5.375292</td>\n",
       "      <td>43.002332</td>\n",
       "      <td>0.108057</td>\n",
       "    </tr>\n",
       "    <tr>\n",
       "      <th>STM.PA</th>\n",
       "      <td>3.978039</td>\n",
       "      <td>1</td>\n",
       "      <td>3.978039</td>\n",
       "      <td>29.605029</td>\n",
       "      <td>5.155738</td>\n",
       "      <td>5.155738</td>\n",
       "      <td>0.337022</td>\n",
       "    </tr>\n",
       "    <tr>\n",
       "      <th>CAP.PA</th>\n",
       "      <td>25.837217</td>\n",
       "      <td>5</td>\n",
       "      <td>129.186087</td>\n",
       "      <td>36.434455</td>\n",
       "      <td>35.250867</td>\n",
       "      <td>176.254333</td>\n",
       "      <td>0.631840</td>\n",
       "    </tr>\n",
       "    <tr>\n",
       "      <th>DSY.PA</th>\n",
       "      <td>3.705438</td>\n",
       "      <td>10</td>\n",
       "      <td>37.054377</td>\n",
       "      <td>37.834243</td>\n",
       "      <td>5.107362</td>\n",
       "      <td>51.073619</td>\n",
       "      <td>0.757415</td>\n",
       "    </tr>\n",
       "    <tr>\n",
       "      <th>MC.PA</th>\n",
       "      <td>60.678326</td>\n",
       "      <td>5</td>\n",
       "      <td>303.391628</td>\n",
       "      <td>27.584455</td>\n",
       "      <td>77.416111</td>\n",
       "      <td>387.080557</td>\n",
       "      <td>0.563777</td>\n",
       "    </tr>\n",
       "    <tr>\n",
       "      <th>MT.AS</th>\n",
       "      <td>53.427956</td>\n",
       "      <td>1</td>\n",
       "      <td>53.427956</td>\n",
       "      <td>-18.457179</td>\n",
       "      <td>43.566662</td>\n",
       "      <td>43.566662</td>\n",
       "      <td>0.049864</td>\n",
       "    </tr>\n",
       "    <tr>\n",
       "      <th>RI.PA</th>\n",
       "      <td>47.699757</td>\n",
       "      <td>6</td>\n",
       "      <td>286.198540</td>\n",
       "      <td>17.294328</td>\n",
       "      <td>55.949109</td>\n",
       "      <td>335.694654</td>\n",
       "      <td>0.448460</td>\n",
       "    </tr>\n",
       "    <tr>\n",
       "      <th>ENGI.PA</th>\n",
       "      <td>12.153281</td>\n",
       "      <td>6</td>\n",
       "      <td>72.919687</td>\n",
       "      <td>-20.235520</td>\n",
       "      <td>9.694002</td>\n",
       "      <td>58.164010</td>\n",
       "      <td>0.326390</td>\n",
       "    </tr>\n",
       "    <tr>\n",
       "      <th>KER.PA</th>\n",
       "      <td>57.814728</td>\n",
       "      <td>5</td>\n",
       "      <td>289.073639</td>\n",
       "      <td>45.383800</td>\n",
       "      <td>84.053248</td>\n",
       "      <td>420.266240</td>\n",
       "      <td>0.637452</td>\n",
       "    </tr>\n",
       "    <tr>\n",
       "      <th>BN.PA</th>\n",
       "      <td>28.888603</td>\n",
       "      <td>8</td>\n",
       "      <td>231.108826</td>\n",
       "      <td>7.422995</td>\n",
       "      <td>31.033003</td>\n",
       "      <td>248.264023</td>\n",
       "      <td>0.185402</td>\n",
       "    </tr>\n",
       "    <tr>\n",
       "      <th>LR.PA</th>\n",
       "      <td>15.265436</td>\n",
       "      <td>1</td>\n",
       "      <td>15.265436</td>\n",
       "      <td>44.608980</td>\n",
       "      <td>22.075192</td>\n",
       "      <td>22.075192</td>\n",
       "      <td>0.706867</td>\n",
       "    </tr>\n",
       "    <tr>\n",
       "      <th>BNP.PA</th>\n",
       "      <td>29.751303</td>\n",
       "      <td>7</td>\n",
       "      <td>208.259119</td>\n",
       "      <td>-16.540280</td>\n",
       "      <td>24.830354</td>\n",
       "      <td>173.812478</td>\n",
       "      <td>0.094707</td>\n",
       "    </tr>\n",
       "    <tr>\n",
       "      <th>^FCHI</th>\n",
       "      <td>4013.969971</td>\n",
       "      <td>1</td>\n",
       "      <td>4013.969971</td>\n",
       "      <td>-11.239801</td>\n",
       "      <td>3562.807732</td>\n",
       "      <td>3562.807732</td>\n",
       "      <td>0.081086</td>\n",
       "    </tr>\n",
       "    <tr>\n",
       "      <th>AIR.PA</th>\n",
       "      <td>11.207962</td>\n",
       "      <td>5</td>\n",
       "      <td>56.039810</td>\n",
       "      <td>15.524385</td>\n",
       "      <td>12.947929</td>\n",
       "      <td>64.739646</td>\n",
       "      <td>0.176085</td>\n",
       "    </tr>\n",
       "    <tr>\n",
       "      <th>SAN.PA</th>\n",
       "      <td>34.043411</td>\n",
       "      <td>10</td>\n",
       "      <td>340.434113</td>\n",
       "      <td>-16.237317</td>\n",
       "      <td>28.515675</td>\n",
       "      <td>285.156746</td>\n",
       "      <td>0.358355</td>\n",
       "    </tr>\n",
       "    <tr>\n",
       "      <th>SGO.PA</th>\n",
       "      <td>25.259134</td>\n",
       "      <td>9</td>\n",
       "      <td>227.332209</td>\n",
       "      <td>-13.184314</td>\n",
       "      <td>21.928891</td>\n",
       "      <td>197.360016</td>\n",
       "      <td>0.019491</td>\n",
       "    </tr>\n",
       "    <tr>\n",
       "      <th>GLE.PA</th>\n",
       "      <td>26.253197</td>\n",
       "      <td>9</td>\n",
       "      <td>236.278770</td>\n",
       "      <td>-38.209031</td>\n",
       "      <td>16.222105</td>\n",
       "      <td>145.998942</td>\n",
       "      <td>0.290998</td>\n",
       "    </tr>\n",
       "    <tr>\n",
       "      <th>OR.PA</th>\n",
       "      <td>62.630215</td>\n",
       "      <td>4</td>\n",
       "      <td>250.520859</td>\n",
       "      <td>-0.073706</td>\n",
       "      <td>62.584052</td>\n",
       "      <td>250.336210</td>\n",
       "      <td>0.031543</td>\n",
       "    </tr>\n",
       "    <tr>\n",
       "      <th>ML.PA</th>\n",
       "      <td>9.089385</td>\n",
       "      <td>6</td>\n",
       "      <td>54.536310</td>\n",
       "      <td>-8.283634</td>\n",
       "      <td>8.336454</td>\n",
       "      <td>50.018722</td>\n",
       "      <td>0.134607</td>\n",
       "    </tr>\n",
       "    <tr>\n",
       "      <th>CA.PA</th>\n",
       "      <td>23.579290</td>\n",
       "      <td>3</td>\n",
       "      <td>70.737871</td>\n",
       "      <td>13.690744</td>\n",
       "      <td>26.807471</td>\n",
       "      <td>80.422412</td>\n",
       "      <td>0.199536</td>\n",
       "    </tr>\n",
       "    <tr>\n",
       "      <th>SAF.PA</th>\n",
       "      <td>11.182047</td>\n",
       "      <td>3</td>\n",
       "      <td>33.546141</td>\n",
       "      <td>118.627027</td>\n",
       "      <td>24.446977</td>\n",
       "      <td>73.340930</td>\n",
       "      <td>0.861122</td>\n",
       "    </tr>\n",
       "    <tr>\n",
       "      <th>AI.PA</th>\n",
       "      <td>35.152561</td>\n",
       "      <td>7</td>\n",
       "      <td>246.067928</td>\n",
       "      <td>15.352713</td>\n",
       "      <td>40.549433</td>\n",
       "      <td>283.846031</td>\n",
       "      <td>0.358523</td>\n",
       "    </tr>\n",
       "  </tbody>\n",
       "</table>\n",
       "</div>"
      ],
      "text/plain": [
       "         Prix achat à t = 0  Quantite  Valeur des actions en $  \\\n",
       "SU.PA             29.081612         4               116.326447   \n",
       "ORA.PA             7.673621         8                61.388966   \n",
       "ACA.PA             7.259819         8                58.078548   \n",
       "STM.PA             3.978039         1                 3.978039   \n",
       "CAP.PA            25.837217         5               129.186087   \n",
       "DSY.PA             3.705438        10                37.054377   \n",
       "MC.PA             60.678326         5               303.391628   \n",
       "MT.AS             53.427956         1                53.427956   \n",
       "RI.PA             47.699757         6               286.198540   \n",
       "ENGI.PA           12.153281         6                72.919687   \n",
       "KER.PA            57.814728         5               289.073639   \n",
       "BN.PA             28.888603         8               231.108826   \n",
       "LR.PA             15.265436         1                15.265436   \n",
       "BNP.PA            29.751303         7               208.259119   \n",
       "^FCHI           4013.969971         1              4013.969971   \n",
       "AIR.PA            11.207962         5                56.039810   \n",
       "SAN.PA            34.043411        10               340.434113   \n",
       "SGO.PA            25.259134         9               227.332209   \n",
       "GLE.PA            26.253197         9               236.278770   \n",
       "OR.PA             62.630215         4               250.520859   \n",
       "ML.PA              9.089385         6                54.536310   \n",
       "CA.PA             23.579290         3                70.737871   \n",
       "SAF.PA            11.182047         3                33.546141   \n",
       "AI.PA             35.152561         7               246.067928   \n",
       "\n",
       "         Évolution du prix en %  Estimation du prix de unitaire à t = 200  \\\n",
       "SU.PA                 15.860335                                 33.694053   \n",
       "ORA.PA               -13.702020                                  6.622180   \n",
       "ACA.PA               -25.958321                                  5.375292   \n",
       "STM.PA                29.605029                                  5.155738   \n",
       "CAP.PA                36.434455                                 35.250867   \n",
       "DSY.PA                37.834243                                  5.107362   \n",
       "MC.PA                 27.584455                                 77.416111   \n",
       "MT.AS                -18.457179                                 43.566662   \n",
       "RI.PA                 17.294328                                 55.949109   \n",
       "ENGI.PA              -20.235520                                  9.694002   \n",
       "KER.PA                45.383800                                 84.053248   \n",
       "BN.PA                  7.422995                                 31.033003   \n",
       "LR.PA                 44.608980                                 22.075192   \n",
       "BNP.PA               -16.540280                                 24.830354   \n",
       "^FCHI                -11.239801                               3562.807732   \n",
       "AIR.PA                15.524385                                 12.947929   \n",
       "SAN.PA               -16.237317                                 28.515675   \n",
       "SGO.PA               -13.184314                                 21.928891   \n",
       "GLE.PA               -38.209031                                 16.222105   \n",
       "OR.PA                 -0.073706                                 62.584052   \n",
       "ML.PA                 -8.283634                                  8.336454   \n",
       "CA.PA                 13.690744                                 26.807471   \n",
       "SAF.PA               118.627027                                 24.446977   \n",
       "AI.PA                 15.352713                                 40.549433   \n",
       "\n",
       "         Estimation de la valeur des actions à t = 200  \\\n",
       "SU.PA                                       134.776210   \n",
       "ORA.PA                                       52.977437   \n",
       "ACA.PA                                       43.002332   \n",
       "STM.PA                                        5.155738   \n",
       "CAP.PA                                      176.254333   \n",
       "DSY.PA                                       51.073619   \n",
       "MC.PA                                       387.080557   \n",
       "MT.AS                                        43.566662   \n",
       "RI.PA                                       335.694654   \n",
       "ENGI.PA                                      58.164010   \n",
       "KER.PA                                      420.266240   \n",
       "BN.PA                                       248.264023   \n",
       "LR.PA                                        22.075192   \n",
       "BNP.PA                                      173.812478   \n",
       "^FCHI                                      3562.807732   \n",
       "AIR.PA                                       64.739646   \n",
       "SAN.PA                                      285.156746   \n",
       "SGO.PA                                      197.360016   \n",
       "GLE.PA                                      145.998942   \n",
       "OR.PA                                       250.336210   \n",
       "ML.PA                                        50.018722   \n",
       "CA.PA                                        80.422412   \n",
       "SAF.PA                                       73.340930   \n",
       "AI.PA                                       283.846031   \n",
       "\n",
       "         Coefficient de determination  \n",
       "SU.PA                        0.343671  \n",
       "ORA.PA                       0.192507  \n",
       "ACA.PA                       0.108057  \n",
       "STM.PA                       0.337022  \n",
       "CAP.PA                       0.631840  \n",
       "DSY.PA                       0.757415  \n",
       "MC.PA                        0.563777  \n",
       "MT.AS                        0.049864  \n",
       "RI.PA                        0.448460  \n",
       "ENGI.PA                      0.326390  \n",
       "KER.PA                       0.637452  \n",
       "BN.PA                        0.185402  \n",
       "LR.PA                        0.706867  \n",
       "BNP.PA                       0.094707  \n",
       "^FCHI                        0.081086  \n",
       "AIR.PA                       0.176085  \n",
       "SAN.PA                       0.358355  \n",
       "SGO.PA                       0.019491  \n",
       "GLE.PA                       0.290998  \n",
       "OR.PA                        0.031543  \n",
       "ML.PA                        0.134607  \n",
       "CA.PA                        0.199536  \n",
       "SAF.PA                       0.861122  \n",
       "AI.PA                        0.358523  "
      ]
     },
     "execution_count": 305,
     "metadata": {},
     "output_type": "execute_result"
    }
   ],
   "source": [
    "portefeuille_maxime.actions.head(len(portefeuille_maxime.actions))"
   ]
  },
  {
   "attachments": {},
   "cell_type": "markdown",
   "metadata": {},
   "source": [
    "### Rentabilité du portefeuille\n"
   ]
  },
  {
   "cell_type": "code",
   "execution_count": 306,
   "metadata": {},
   "outputs": [],
   "source": [
    "df = portefeuille_maxime.actions"
   ]
  },
  {
   "cell_type": "code",
   "execution_count": 307,
   "metadata": {},
   "outputs": [
    {
     "name": "stdout",
     "output_type": "stream",
     "text": [
      "Valeur de mon portefeuille :  7395.1212747097015\n"
     ]
    }
   ],
   "source": [
    "total_temps_buy_order = df['Valeur des actions en $'].sum()\n",
    "print(\"Valeur de mon portefeuille : \" , total_temps_buy_order)"
   ]
  },
  {
   "cell_type": "code",
   "execution_count": 308,
   "metadata": {},
   "outputs": [
    {
     "name": "stdout",
     "output_type": "stream",
     "text": [
      "Valeur de mon portefeuille estimé :  7146.190874208335\n"
     ]
    }
   ],
   "source": [
    "total_temps_target = df['Estimation de la valeur des actions à t = '+str(time_target)].sum()\n",
    "print(\"Valeur de mon portefeuille estimé : \" , total_temps_target)"
   ]
  },
  {
   "cell_type": "code",
   "execution_count": 309,
   "metadata": {},
   "outputs": [
    {
     "name": "stdout",
     "output_type": "stream",
     "text": [
      "Gain estimé :  -248.93040050136642\n"
     ]
    }
   ],
   "source": [
    "print(\"Gain estimé : \", total_temps_target-total_temps_buy_order)"
   ]
  },
  {
   "cell_type": "code",
   "execution_count": 310,
   "metadata": {},
   "outputs": [
    {
     "name": "stdout",
     "output_type": "stream",
     "text": [
      "0.3289490212997126\n"
     ]
    }
   ],
   "source": [
    "print(df['Coefficient de determination'].mean())"
   ]
  },
  {
   "cell_type": "code",
   "execution_count": 318,
   "metadata": {},
   "outputs": [],
   "source": [
    "def r2_mean_var(liste_tags_entreprises, quantites,learning_rate,time_target,buy_order, nit): \n",
    "    if nit > 100 :\n",
    "        r2_mean_hist = []\n",
    "        r2_var_hist = []\n",
    "        for i in range(100, nit + 100):\n",
    "            p = portefeuille(liste_tags_entreprises, quantites, buy_order)\n",
    "            model = lr_models(p, i, learning_rate)\n",
    "            model.create_models()\n",
    "            p.add_predic(time_target, model)\n",
    "            r2_mean_hist.append(p.get_r2_mean())\n",
    "            r2_var_hist.append(p.get_r2_var())\n",
    "            print(i)\n",
    "        return range(100, nit + 100), r2_mean_hist, r2_var_hist\n",
    "    else : print(\"Merci de choisir un n_itération > 100 \")"
   ]
  },
  {
   "attachments": {},
   "cell_type": "markdown",
   "metadata": {},
   "source": [
    "### Évolution de la moyenne du coefficient de détermination en fonction la période d'apprentissage\n",
    "\n",
    "On va considerer un portefeuille aleatoiremement définit par la variable <code>quantities</code> on conserve également le <code>learning_rate</code> de <b> 0.01 </b>"
   ]
  },
  {
   "cell_type": "code",
   "execution_count": 319,
   "metadata": {},
   "outputs": [],
   "source": [
    "quantites = [random.randint(1, 10) for _ in range(len(liste_tags_entreprises))]\n",
    "buy_order = 0\n",
    "time_target = 200 #Pour quand on souhaite effectuer des prédictions\n",
    "#Paramètres de l'apprentissage :\n",
    "learning_period = 100\n",
    "learning_rate = 0.01"
   ]
  },
  {
   "cell_type": "code",
   "execution_count": 320,
   "metadata": {},
   "outputs": [],
   "source": [
    "x , y_m, y_v = r2_mean_var(liste_tags_entreprises, quantites, learning_rate, 2800,0, 2700)"
   ]
  },
  {
   "cell_type": "code",
   "execution_count": 323,
   "metadata": {},
   "outputs": [
    {
     "data": {
      "image/png": "[encoded data removed]",
      "text/plain": [
       "<Figure size 640x480 with 1 Axes>"
      ]
     },
     "metadata": {},
     "output_type": "display_data"
    }
   ],
   "source": [
    "plt.plot(x,y_m, c = 'b')\n",
    "plt.show()"
   ]
  },
  {
   "cell_type": "code",
   "execution_count": 324,
   "metadata": {},
   "outputs": [
    {
     "data": {
      "image/png": "[encoded data removed]",
      "text/plain": [
       "<Figure size 640x480 with 1 Axes>"
      ]
     },
     "metadata": {},
     "output_type": "display_data"
    }
   ],
   "source": [
    "plt.plot(x,y_v, c = 'b')\n",
    "plt.show()"
   ]
  },
  {
   "cell_type": "code",
   "execution_count": null,
   "metadata": {},
   "outputs": [],
   "source": []
  }
 ],
 "metadata": {
  "kernelspec": {
   "display_name": "base",
   "language": "python",
   "name": "python3"
  },
  "language_info": {
   "codemirror_mode": {
    "name": "ipython",
    "version": 3
   },
   "file_extension": ".py",
   "mimetype": "text/x-python",
   "name": "python",
   "nbconvert_exporter": "python",
   "pygments_lexer": "ipython3",
   "version": "3.9.13"
  },
  "orig_nbformat": 4
 },
 "nbformat": 4,
 "nbformat_minor": 2
}
