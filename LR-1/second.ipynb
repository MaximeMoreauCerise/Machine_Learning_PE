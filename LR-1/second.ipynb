{
 "cells": [
  {
   "cell_type": "code",
   "execution_count": 181,
   "metadata": {},
   "outputs": [],
   "source": [
    "#bibliothèque\n",
    "from sklearn.linear_model import LinearRegression\n",
    "import pandas as pd\n",
    "import matplotlib.pyplot as plt\n",
    "import numpy as np\n",
    "import os\n",
    "import random\n",
    "\n",
    "# Fonction pour changer la couleur du texte\n",
    "def couleur(valeur):\n",
    "    if valeur < 0:\n",
    "        return f'<font color=\"red\">{valeur}</font>'\n",
    "    else:\n",
    "        return f'<font color=\"green\">{valeur}</font>'"
   ]
  },
  {
   "attachments": {},
   "cell_type": "markdown",
   "metadata": {},
   "source": [
    "Pour obtenir une liste avec tout les tags des entreprises du CAC40 :"
   ]
  },
  {
   "cell_type": "code",
   "execution_count": 182,
   "metadata": {},
   "outputs": [
    {
     "name": "stdout",
     "output_type": "stream",
     "text": [
      "['SU.PA', 'ORA.PA', 'ACA.PA', 'STM.PA', 'CAP.PA', 'DSY.PA', 'MC.PA', 'MT.AS', 'RI.PA', 'ENGI.PA', 'KER.PA', 'BN.PA', 'LR.PA', 'BNP.PA', '^FCHI', 'AIR.PA', 'SAN.PA', 'SGO.PA', 'GLE.PA', 'OR.PA', 'ML.PA', 'CA.PA', 'SAF.PA', 'AI.PA']\n"
     ]
    }
   ],
   "source": [
    "# Chemin du dossier\n",
    "dossier = \"data-fr/Data_CAC40\"\n",
    "fichiers = os.listdir(dossier)\n",
    "list_tags = []\n",
    "for i in fichiers:\n",
    "    chaine = i\n",
    "    chaine_sans_dataframe = chaine.replace(\"dataframe_\", \"\")\n",
    "    second = chaine_sans_dataframe.replace(\".csv\",\"\")\n",
    "    list_tags.append(second)\n",
    "\n",
    "print(list_tags)\n",
    "list_tags = ['SU.PA', 'ORA.PA', 'ACA.PA', 'STM.PA', 'CAP.PA', 'DSY.PA', 'MC.PA', 'MT.AS', 'RI.PA', 'ENGI.PA', 'KER.PA', 'BN.PA', 'LR.PA', 'BNP.PA', '^FCHI', 'AIR.PA', 'SAN.PA', 'SGO.PA', 'GLE.PA', 'OR.PA', 'ML.PA', 'CA.PA', 'SAF.PA', 'AI.PA']\n"
   ]
  },
  {
   "attachments": {},
   "cell_type": "markdown",
   "metadata": {},
   "source": [
    "Class portefeuille d'action:"
   ]
  },
  {
   "cell_type": "code",
   "execution_count": 195,
   "metadata": {},
   "outputs": [],
   "source": [
    "class portefeuille:\n",
    "    def __init__(self, noms_titres, quantites, time_achat) -> None:\n",
    "        self.noms_titres = noms_titres\n",
    "        self.quantites = quantites\n",
    "        self.time = time_achat\n",
    "        #On importe les données\n",
    "        self.data = []\n",
    "        self.prix = []\n",
    "        for i in self.noms_titres:\n",
    "            path = \"data-fr/Data_CAC40/dataframe_\"+i+\".csv\"\n",
    "            df = pd.read_csv(path)\n",
    "            self.data.append(df)\n",
    "            #print(i, \"chargé\")\n",
    "        #On récupère le prix de fermeture des actions à l'instant t = time_achat\n",
    "        self.recuperer_prix(self.time)\n",
    "        #Création du dataframe de notre portefeuille\n",
    "        self.complete_actions_df()\n",
    "\n",
    "    def __str__(self) -> str:\n",
    "        return f'{self.actions}'\n",
    "    \n",
    "    def get_noms_titres(self):\n",
    "        return self.noms_titres\n",
    "\n",
    "    def recuperer_prix(self, t):\n",
    "        for i in self.data:\n",
    "            self.prix.append(i['Close'][t])\n",
    "\n",
    "            \n",
    "    def get_data(self):\n",
    "        return self.data\n",
    "    \n",
    "    def complete_actions_df(self):\n",
    "        self.actions_temp = {'Prix achat à t = ' + str(self.time) :self.prix,\n",
    "                        'Quantite': self.quantites}\n",
    "        self.actions = pd.DataFrame(self.actions_temp, index=self.noms_titres)\n",
    "        self.actions['Valeur des actions en $'] = self.actions.apply(lambda row: row['Prix achat à t = ' + str(self.time)] * row['Quantite'], axis=1)\n",
    "\n",
    "    def add_predic(self, t, mod):\n",
    "            predict = []\n",
    "            for i in mod.models:\n",
    "                predict.append(i.predict(np.array([t]).reshape(1,1))[0])\n",
    "            self.actions['Évolution du prix en %'] = 100*(predict-self.actions['Prix achat à t = ' + str(self.time)])/self.actions['Prix achat à t = ' + str(self.time)]\n",
    "            self.actions['Estimation du prix de unitaire à t = '+str(t)] = predict\n",
    "            self.actions['Estimation de la valeur des actions à t = '+str(t)] = self.actions.apply(lambda row: row['Estimation du prix de unitaire à t = '+str(t)] * row['Quantite'], axis=1)\n",
    "            #self.couleur_evolution()\n",
    "            self.actions['Score de la prédiction'] = self.scores\n",
    "    def afficher_resultats(self):\n",
    "        return self.actions.head(len(self.actions))\n",
    "    \n",
    "    def couleur_evolution(self):\n",
    "        self.actions['Évolution du prix en %'] = self.actions['Évolution du prix en %'].apply(lambda x: couleur(x))\n",
    "\n",
    "    def set_scores(self, scores):\n",
    "        self.scores = scores"
   ]
  },
  {
   "attachments": {},
   "cell_type": "markdown",
   "metadata": {},
   "source": [
    "### Les models"
   ]
  },
  {
   "cell_type": "markdown",
   "metadata": {},
   "source": []
  },
  {
   "cell_type": "code",
   "execution_count": 196,
   "metadata": {},
   "outputs": [],
   "source": [
    "class lr_models:\n",
    "    #period = période d'apprentissage => inputs\n",
    "    def __init__(self, portefeuille, period, learning_rate) -> None:\n",
    "        self.mon_portefeuille = portefeuille \n",
    "        self.noms_titres = portefeuille.get_noms_titres()\n",
    "        self.m = period\n",
    "        self.learning_rate = learning_rate\n",
    "        self.scores = []\n",
    "\n",
    "    def create_models(self):\n",
    "        self.models = []\n",
    "        for i in self.mon_portefeuille.get_data():\n",
    "            self.models.append(self.get_model(i))\n",
    "\n",
    "\n",
    "    def get_model(self, df_titre):\n",
    "        df = df_titre.head(self.m)\n",
    "        self.Y = df['Close']\n",
    "        self.X = np.arange(self.m).reshape(self.m,1)\n",
    "        model = LinearRegression()\n",
    "        model.fit(self.X,self.Y)\n",
    "        self.scores.append(model.score(self.X,self.Y))\n",
    "        self.mon_portefeuille.set_scores(self.scores)\n",
    "        #print(model.score(self.X, self.Y))\n",
    "        return model\n"
   ]
  },
  {
   "cell_type": "code",
   "execution_count": 197,
   "metadata": {},
   "outputs": [],
   "source": [
    "#Quelles actions on veut dans notre portefeuille d'actions et quelles sont les quantités? \n",
    "liste_tags_entreprises = list_tags\n",
    "quantites = [random.randint(1, 10) for _ in range(len(liste_tags_entreprises))]\n",
    "buy_order = 0\n",
    "time_target = 200 #Pour quand on souhaite effectuer des prédictions\n",
    "#Paramètres de l'apprentissage :\n",
    "learning_period = 100\n",
    "learning_rate = 0.01"
   ]
  },
  {
   "attachments": {},
   "cell_type": "markdown",
   "metadata": {},
   "source": [
    "Création de mon portefeuille, et de mes modèles d'apprentissages + Ajouts des prédictions"
   ]
  },
  {
   "cell_type": "code",
   "execution_count": 198,
   "metadata": {},
   "outputs": [],
   "source": [
    "portefeuille_maxime = portefeuille(liste_tags_entreprises,quantites, buy_order)\n",
    "model = lr_models(portefeuille_maxime, learning_period, learning_rate)\n",
    "model.create_models()\n",
    "portefeuille_maxime.add_predic(time_target,model)"
   ]
  },
  {
   "cell_type": "code",
   "execution_count": 199,
   "metadata": {},
   "outputs": [],
   "source": [
    "portefeuille_maxime.add_predic(time_target,model)"
   ]
  },
  {
   "cell_type": "code",
   "execution_count": 200,
   "metadata": {},
   "outputs": [
    {
     "data": {
      "text/html": [
       "<div>\n",
       "<style scoped>\n",
       "    .dataframe tbody tr th:only-of-type {\n",
       "        vertical-align: middle;\n",
       "    }\n",
       "\n",
       "    .dataframe tbody tr th {\n",
       "        vertical-align: top;\n",
       "    }\n",
       "\n",
       "    .dataframe thead th {\n",
       "        text-align: right;\n",
       "    }\n",
       "</style>\n",
       "<table border=\"1\" class=\"dataframe\">\n",
       "  <thead>\n",
       "    <tr style=\"text-align: right;\">\n",
       "      <th></th>\n",
       "      <th>Prix achat à t = 0</th>\n",
       "      <th>Quantite</th>\n",
       "      <th>Valeur des actions en $</th>\n",
       "      <th>Évolution du prix en %</th>\n",
       "      <th>Estimation du prix de unitaire à t = 200</th>\n",
       "      <th>Estimation de la valeur des actions à t = 200</th>\n",
       "      <th>Score de la prédiction</th>\n",
       "    </tr>\n",
       "  </thead>\n",
       "  <tbody>\n",
       "    <tr>\n",
       "      <th>SU.PA</th>\n",
       "      <td>29.081612</td>\n",
       "      <td>1</td>\n",
       "      <td>29.081612</td>\n",
       "      <td>15.860335</td>\n",
       "      <td>33.694053</td>\n",
       "      <td>33.694053</td>\n",
       "      <td>0.343671</td>\n",
       "    </tr>\n",
       "    <tr>\n",
       "      <th>ORA.PA</th>\n",
       "      <td>7.673621</td>\n",
       "      <td>10</td>\n",
       "      <td>76.736207</td>\n",
       "      <td>-13.702020</td>\n",
       "      <td>6.622180</td>\n",
       "      <td>66.221796</td>\n",
       "      <td>0.192507</td>\n",
       "    </tr>\n",
       "    <tr>\n",
       "      <th>ACA.PA</th>\n",
       "      <td>7.259819</td>\n",
       "      <td>6</td>\n",
       "      <td>43.558911</td>\n",
       "      <td>-25.958321</td>\n",
       "      <td>5.375292</td>\n",
       "      <td>32.251749</td>\n",
       "      <td>0.108057</td>\n",
       "    </tr>\n",
       "    <tr>\n",
       "      <th>STM.PA</th>\n",
       "      <td>3.978039</td>\n",
       "      <td>9</td>\n",
       "      <td>35.802347</td>\n",
       "      <td>29.605029</td>\n",
       "      <td>5.155738</td>\n",
       "      <td>46.401642</td>\n",
       "      <td>0.337022</td>\n",
       "    </tr>\n",
       "    <tr>\n",
       "      <th>CAP.PA</th>\n",
       "      <td>25.837217</td>\n",
       "      <td>6</td>\n",
       "      <td>155.023304</td>\n",
       "      <td>36.434455</td>\n",
       "      <td>35.250867</td>\n",
       "      <td>211.505200</td>\n",
       "      <td>0.631840</td>\n",
       "    </tr>\n",
       "  </tbody>\n",
       "</table>\n",
       "</div>"
      ],
      "text/plain": [
       "        Prix achat à t = 0  Quantite  Valeur des actions en $  \\\n",
       "SU.PA            29.081612         1                29.081612   \n",
       "ORA.PA            7.673621        10                76.736207   \n",
       "ACA.PA            7.259819         6                43.558911   \n",
       "STM.PA            3.978039         9                35.802347   \n",
       "CAP.PA           25.837217         6               155.023304   \n",
       "\n",
       "        Évolution du prix en %  Estimation du prix de unitaire à t = 200  \\\n",
       "SU.PA                15.860335                                 33.694053   \n",
       "ORA.PA              -13.702020                                  6.622180   \n",
       "ACA.PA              -25.958321                                  5.375292   \n",
       "STM.PA               29.605029                                  5.155738   \n",
       "CAP.PA               36.434455                                 35.250867   \n",
       "\n",
       "        Estimation de la valeur des actions à t = 200  Score de la prédiction  \n",
       "SU.PA                                       33.694053                0.343671  \n",
       "ORA.PA                                      66.221796                0.192507  \n",
       "ACA.PA                                      32.251749                0.108057  \n",
       "STM.PA                                      46.401642                0.337022  \n",
       "CAP.PA                                     211.505200                0.631840  "
      ]
     },
     "execution_count": 200,
     "metadata": {},
     "output_type": "execute_result"
    }
   ],
   "source": [
    "portefeuille_maxime.actions.head()"
   ]
  },
  {
   "cell_type": "code",
   "execution_count": null,
   "metadata": {},
   "outputs": [],
   "source": []
  },
  {
   "cell_type": "code",
   "execution_count": null,
   "metadata": {},
   "outputs": [],
   "source": []
  },
  {
   "cell_type": "code",
   "execution_count": null,
   "metadata": {},
   "outputs": [],
   "source": []
  },
  {
   "cell_type": "code",
   "execution_count": null,
   "metadata": {},
   "outputs": [],
   "source": []
  },
  {
   "cell_type": "code",
   "execution_count": null,
   "metadata": {},
   "outputs": [],
   "source": []
  },
  {
   "cell_type": "code",
   "execution_count": null,
   "metadata": {},
   "outputs": [],
   "source": []
  },
  {
   "cell_type": "code",
   "execution_count": null,
   "metadata": {},
   "outputs": [],
   "source": []
  },
  {
   "cell_type": "code",
   "execution_count": null,
   "metadata": {},
   "outputs": [],
   "source": []
  },
  {
   "cell_type": "code",
   "execution_count": null,
   "metadata": {},
   "outputs": [],
   "source": []
  },
  {
   "cell_type": "code",
   "execution_count": null,
   "metadata": {},
   "outputs": [],
   "source": []
  }
 ],
 "metadata": {
  "kernelspec": {
   "display_name": "base",
   "language": "python",
   "name": "python3"
  },
  "language_info": {
   "codemirror_mode": {
    "name": "ipython",
    "version": 3
   },
   "file_extension": ".py",
   "mimetype": "text/x-python",
   "name": "python",
   "nbconvert_exporter": "python",
   "pygments_lexer": "ipython3",
   "version": "3.9.13"
  },
  "orig_nbformat": 4
 },
 "nbformat": 4,
 "nbformat_minor": 2
}
